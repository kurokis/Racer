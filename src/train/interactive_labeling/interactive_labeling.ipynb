{
 "cells": [
  {
   "cell_type": "code",
   "execution_count": 1,
   "id": "8f5b110a-09d1-4dca-b37f-f334d2bcf177",
   "metadata": {},
   "outputs": [],
   "source": [
    "import cv2\n",
    "import ipywidgets\n",
    "import traitlets\n",
    "from IPython.display import display"
   ]
  },
  {
   "cell_type": "code",
   "execution_count": 2,
   "id": "3a15f5db-5f3c-475e-8e96-98d1bcca5a31",
   "metadata": {},
   "outputs": [],
   "source": [
    "%matplotlib widget\n",
    "import ipywidgets as widgets\n",
    "import matplotlib.pyplot as plt\n",
    "import numpy as np"
   ]
  },
  {
   "cell_type": "code",
   "execution_count": 13,
   "id": "398f85f6-d8e9-48d3-90a8-0d23a3d41817",
   "metadata": {},
   "outputs": [],
   "source": [
    "import os\n",
    "import glob\n",
    "import pandas as pd\n",
    "import PIL.Image\n",
    "import shutil\n",
    "from pathlib import Path\n",
    "\n",
    "class ImageDataset:\n",
    "    def __init__(self, parent_dir):\n",
    "        self.img_files = sorted(glob.glob(os.path.join(parent_dir,\"*.jpg\")))\n",
    "        \n",
    "        # load labels\n",
    "        labels = {}\n",
    "        np_imgs = []\n",
    "        pil_imgs = []\n",
    "        for i, file in enumerate(self.img_files):\n",
    "            labels[i] = {\"filename\": file}\n",
    "            pil_img = PIL.Image.open(file)\n",
    "            np_img = np.asarray(pil_img)\n",
    "            pil_imgs.append(pil_img)\n",
    "            np_imgs.append(np_img)\n",
    "        self.pil_imgs = pil_imgs\n",
    "        self.np_imgs = np_imgs\n",
    "        \n",
    "        self.labels = labels\n",
    "            \n",
    "    def get_size(self):\n",
    "        return len(self.np_imgs)\n",
    "    \n",
    "    def get_np_img(self, i):\n",
    "        return self.np_imgs[i]\n",
    "    \n",
    "    def get_pil_img(self, i):\n",
    "        return self.pil_imgs[i]\n",
    "    \n",
    "    def get_label(self, i):\n",
    "        throttle = self.labels[i][\"throttle\"]\n",
    "        steer = self.labels[i][\"steer\"]\n",
    "        return np.array([throttle,steer])\n",
    "    \n",
    "    def put_throttle(self, i, throttle):\n",
    "        self.labels[i][\"throttle\"] = throttle\n",
    "    \n",
    "    def put_steer(self, i, steer):\n",
    "        self.labels[i][\"steer\"] = steer\n",
    "        \n",
    "    def export(self):\n",
    "        if os.path.exists(\"output_data\"):\n",
    "            shutil.rmtree(\"output_data\")\n",
    "        os.makedirs(\"output_data\",exist_ok=True)\n",
    "        with open(\"output_data/labels.csv\", \"w\") as f:\n",
    "            for i in range(len(self.np_imgs)):\n",
    "                filename = str(Path(self.labels[i][\"filename\"]).name)\n",
    "                if \"steer\" in self.labels[i].keys():\n",
    "                    throttle = self.labels[i][\"throttle\"]\n",
    "                    steer = self.labels[i][\"steer\"]\n",
    "                    f.write(\"{},{},{}\\n\".format(filename,throttle,steer))\n",
    "\n",
    "dataset = ImageDataset(\"input_data\")"
   ]
  },
  {
   "cell_type": "markdown",
   "id": "bfe4d291-d06e-4343-a098-ca043277608f",
   "metadata": {},
   "source": [
    "## Show original dataset"
   ]
  },
  {
   "cell_type": "code",
   "execution_count": 14,
   "id": "d8e6abeb-10d1-428a-9156-fbf262a03bd0",
   "metadata": {},
   "outputs": [
    {
     "data": {
      "application/vnd.jupyter.widget-view+json": {
       "model_id": "32b1688a3b3147c784fe1c226df6a1ab",
       "version_major": 2,
       "version_minor": 0
      },
      "text/plain": [
       "interactive(children=(IntSlider(value=112, description='x', max=224), Output()), _dom_classes=('widget-interac…"
      ]
     },
     "metadata": {},
     "output_type": "display_data"
    }
   ],
   "source": [
    "%matplotlib widget\n",
    "import matplotlib.pyplot as plt\n",
    "\n",
    "@widgets.interact(x=(0, dataset.get_size()-1, 1))\n",
    "def show_image(x):\n",
    "    print(\"No. {}\".format(x))\n",
    "    fig = plt.figure(figsize=(6,4))\n",
    "    plt.imshow(dataset.get_np_img(x)) # show np image\n",
    "    plt.show()\n",
    "    #display(dataset.get_pil_img(x)) # show pil image"
   ]
  },
  {
   "cell_type": "markdown",
   "id": "8e42b62c-aba4-4481-853a-b5300b770e54",
   "metadata": {},
   "source": [
    "## Manually label steering input"
   ]
  },
  {
   "cell_type": "code",
   "execution_count": 15,
   "id": "c12dce44-bc8a-4c12-ab53-d54b43cb4678",
   "metadata": {},
   "outputs": [
    {
     "data": {
      "application/vnd.jupyter.widget-view+json": {
       "model_id": "0811dec365a14538ae8f6c58d2fa8b7e",
       "version_major": 2,
       "version_minor": 0
      },
      "text/plain": [
       "Output()"
      ]
     },
     "metadata": {},
     "output_type": "display_data"
    }
   ],
   "source": [
    "%matplotlib widget\n",
    "from ipywidgets import Output\n",
    "import matplotlib.pyplot as plt\n",
    "\n",
    "out = Output()\n",
    "display(out)\n",
    "\n",
    "x = 0\n",
    "\n",
    "def show_image(x):\n",
    "    print(\"No. {}\".format(x))\n",
    "    #print(\"Throttle: {}\\n Steer: {}\".format(dataset.get_label(x)[0],dataset.get_label(x)[1]))\n",
    "    fig = plt.figure(figsize=(6,4))\n",
    "    fig.canvas.mpl_connect('button_press_event', onclick)\n",
    "    plt.imshow(dataset.get_np_img(x)) # show np image\n",
    "    plt.show()\n",
    "    #display(dataset.get_pil_img(x)) # show pil image\n",
    "\n",
    "@out.capture(clear_output=True)\n",
    "def onclick(event):\n",
    "    global x\n",
    "    try:\n",
    "        print('%s click: button=%d, x=%d, y=%d, xdata=%f, ydata=%f' %\n",
    "              ('double' if event.dblclick else 'single', event.button,\n",
    "               event.x, event.y,\n",
    "               event.xdata, event.ydata))\n",
    "        w = len(dataset.get_np_img(x)[0])\n",
    "        manually_labeled_throttle = 0.5\n",
    "        manually_labeled_steer = -1*(event.xdata-(w/2))/(w/2)\n",
    "        print(manually_labeled_steer)\n",
    "        dataset.put_throttle(x, manually_labeled_throttle)\n",
    "        dataset.put_steer(x, manually_labeled_steer)\n",
    "    except TypeError:\n",
    "        print(\"type error: skipping image {}\".format(x))\n",
    "    if x==dataset.get_size()-1:\n",
    "        print(\"done\")\n",
    "        dataset.export()\n",
    "    else:\n",
    "        x += 1\n",
    "        show_image(x)\n",
    "\n",
    "with out:\n",
    "    show_image(x)"
   ]
  },
  {
   "cell_type": "code",
   "execution_count": 11,
   "id": "2561a49b-5393-4df7-8d82-24f614c5322a",
   "metadata": {},
   "outputs": [
    {
     "data": {
      "text/plain": [
       "True"
      ]
     },
     "execution_count": 11,
     "metadata": {},
     "output_type": "execute_result"
    }
   ],
   "source": [
    "\"steer\" in dataset.labels[0].keys()"
   ]
  },
  {
   "cell_type": "code",
   "execution_count": null,
   "id": "42b26338-c788-4744-8362-4f306f8bebf1",
   "metadata": {},
   "outputs": [],
   "source": []
  }
 ],
 "metadata": {
  "kernelspec": {
   "display_name": "Python 3 (ipykernel)",
   "language": "python",
   "name": "python3"
  },
  "language_info": {
   "codemirror_mode": {
    "name": "ipython",
    "version": 3
   },
   "file_extension": ".py",
   "mimetype": "text/x-python",
   "name": "python",
   "nbconvert_exporter": "python",
   "pygments_lexer": "ipython3",
   "version": "3.9.7"
  }
 },
 "nbformat": 4,
 "nbformat_minor": 5
}
