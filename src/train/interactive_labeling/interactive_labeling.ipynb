{
 "cells": [
  {
   "cell_type": "code",
   "execution_count": null,
   "id": "8f5b110a-09d1-4dca-b37f-f334d2bcf177",
   "metadata": {},
   "outputs": [],
   "source": [
    "import cv2\n",
    "import ipywidgets\n",
    "import traitlets\n",
    "from IPython.display import display"
   ]
  },
  {
   "cell_type": "code",
   "execution_count": null,
   "id": "3a15f5db-5f3c-475e-8e96-98d1bcca5a31",
   "metadata": {},
   "outputs": [],
   "source": [
    "%matplotlib widget\n",
    "import ipywidgets as widgets\n",
    "import matplotlib.pyplot as plt\n",
    "import numpy as np"
   ]
  },
  {
   "cell_type": "code",
   "execution_count": null,
   "id": "b5939223-860b-403f-891b-cca8fc42ddf8",
   "metadata": {},
   "outputs": [],
   "source": [
    "def say_something(x):\n",
    "    \"\"\"\n",
    "    Print the current widget value in short sentence\n",
    "    \"\"\"\n",
    "    print(f'Widget says: {x}')\n",
    "\n",
    "widgets.interact(say_something, x=(0, len(img_files)-1, 1))\n",
    "_ = widgets.interact(say_something, x=True)"
   ]
  },
  {
   "cell_type": "code",
   "execution_count": null,
   "id": "398f85f6-d8e9-48d3-90a8-0d23a3d41817",
   "metadata": {},
   "outputs": [],
   "source": [
    "import os\n",
    "import glob\n",
    "import pandas as pd\n",
    "import PIL.Image\n",
    "import shutil\n",
    "\n",
    "class ImageDataset:\n",
    "    def __init__(self, parent_dir):\n",
    "        self.img_files = glob.glob(os.path.join(parent_dir,\"*.jpg\"))\n",
    "        self.lbl_file = os.path.join(parent_dir,\"labels.csv\")\n",
    "        \n",
    "        # load images to RAM\n",
    "        #np_imgs = []\n",
    "        #pil_imgs = []\n",
    "        #for file in self.img_files:\n",
    "        #    pil_img = PIL.Image.open(file)\n",
    "        #    np_img = np.asarray(pil_img)\n",
    "        #    pil_imgs.append(pil_img)\n",
    "        #    np_imgs.append(np_img)\n",
    "        #self.pil_imgs = pil_imgs\n",
    "        #self.np_imgs = np_imgs\n",
    "        \n",
    "        # load labels\n",
    "        df = pd.read_csv(lbl_file)\n",
    "        labels = {}\n",
    "        np_imgs = []\n",
    "        pil_imgs = []\n",
    "        for i in range(len(df)):\n",
    "            labels[i] = {\"filename\": df.iloc[i][0],\n",
    "                         \"throttle\": df.iloc[i][1],\n",
    "                         \"steer\": df.iloc[i][2]}\n",
    "            file = \"input_data/\"+df.iloc[i][0]\n",
    "            pil_img = PIL.Image.open(file)\n",
    "            np_img = np.asarray(pil_img)\n",
    "            pil_imgs.append(pil_img)\n",
    "            np_imgs.append(np_img)\n",
    "        self.pil_imgs = pil_imgs\n",
    "        self.np_imgs = np_imgs\n",
    "        \n",
    "        self.labels = labels\n",
    "            \n",
    "    def get_size(self):\n",
    "        return len(self.np_imgs)\n",
    "    \n",
    "    def get_np_img(self, i):\n",
    "        return self.np_imgs[i]\n",
    "    \n",
    "    def get_pil_img(self, i):\n",
    "        return self.pil_imgs[i]\n",
    "    \n",
    "    def get_label(self, i):\n",
    "        throttle = self.labels[i][\"throttle\"]\n",
    "        steer = self.labels[i][\"steer\"]\n",
    "        return np.array([throttle,steer])\n",
    "    \n",
    "    def put_steer(self, i, steer):\n",
    "        self.labels[i][\"steer\"] = steer\n",
    "        \n",
    "    def export(self):\n",
    "        if os.path.exists(\"output_data\"):\n",
    "            shutil.rmtree(\"output_data\")\n",
    "        os.makedirs(\"output_data\",exist_ok=True)\n",
    "        with open(\"output_data/labels.csv\", \"w\") as f:\n",
    "            for i in range(len(self.np_imgs)):\n",
    "                filename = self.labels[i][\"filename\"]\n",
    "                throttle = self.labels[i][\"throttle\"]\n",
    "                steer = self.labels[i][\"steer\"]\n",
    "                f.write(\"{},{},{}\\n\".format(filename,throttle,steer))\n",
    "\n",
    "dataset = ImageDataset(\"input_data\")"
   ]
  },
  {
   "cell_type": "markdown",
   "id": "bfe4d291-d06e-4343-a098-ca043277608f",
   "metadata": {},
   "source": [
    "## Show original dataset"
   ]
  },
  {
   "cell_type": "code",
   "execution_count": null,
   "id": "d8e6abeb-10d1-428a-9156-fbf262a03bd0",
   "metadata": {},
   "outputs": [],
   "source": [
    "%matplotlib widget\n",
    "import matplotlib.pyplot as plt\n",
    "\n",
    "@widgets.interact(x=(0, dataset.get_size()-1, 1))\n",
    "def show_image(x):\n",
    "    print(\"No. {}\".format(x))\n",
    "    print(\"Throttle: {}\\n Steer: {}\".format(dataset.get_label(x)[0],dataset.get_label(x)[1]))\n",
    "    fig = plt.figure(figsize=(6,4))\n",
    "    plt.imshow(dataset.get_np_img(x)) # show np image\n",
    "    plt.show()\n",
    "    #display(dataset.get_pil_img(x)) # show pil image"
   ]
  },
  {
   "cell_type": "markdown",
   "id": "8e42b62c-aba4-4481-853a-b5300b770e54",
   "metadata": {},
   "source": [
    "## Manually label steering input"
   ]
  },
  {
   "cell_type": "code",
   "execution_count": null,
   "id": "c12dce44-bc8a-4c12-ab53-d54b43cb4678",
   "metadata": {},
   "outputs": [],
   "source": [
    "%matplotlib widget\n",
    "from ipywidgets import Output\n",
    "import matplotlib.pyplot as plt\n",
    "\n",
    "out = Output()\n",
    "display(out)\n",
    "\n",
    "x = 0\n",
    "\n",
    "def show_image(x):\n",
    "    print(\"No. {}\".format(x))\n",
    "    print(\"Throttle: {}\\n Steer: {}\".format(dataset.get_label(x)[0],dataset.get_label(x)[1]))\n",
    "    fig = plt.figure(figsize=(6,4))\n",
    "    fig.canvas.mpl_connect('button_press_event', onclick)\n",
    "    plt.imshow(dataset.get_np_img(x)) # show np image\n",
    "    plt.show()\n",
    "    #display(dataset.get_pil_img(x)) # show pil image\n",
    "\n",
    "@out.capture(clear_output=True)\n",
    "def onclick(event):\n",
    "    global x\n",
    "    print('%s click: button=%d, x=%d, y=%d, xdata=%f, ydata=%f' %\n",
    "          ('double' if event.dblclick else 'single', event.button,\n",
    "           event.x, event.y,\n",
    "           event.xdata, event.ydata))\n",
    "    w = len(dataset.get_np_img(x)[0])\n",
    "    manually_labeled_steer = -1*(event.xdata-(w/2))/(w/2)\n",
    "    print(manually_labeled_steer)\n",
    "    dataset.put_steer(x, manually_labeled_steer)\n",
    "    if x==dataset.get_size()-1:\n",
    "        print(\"done\")\n",
    "        dataset.export()\n",
    "    else:\n",
    "        x += 1\n",
    "        show_image(x)\n",
    "\n",
    "with out:\n",
    "    show_image(x)"
   ]
  },
  {
   "cell_type": "code",
   "execution_count": null,
   "id": "4af31bb8-a4cc-49ef-9a87-b802fe4bf8a2",
   "metadata": {},
   "outputs": [],
   "source": []
  },
  {
   "cell_type": "code",
   "execution_count": null,
   "id": "2561a49b-5393-4df7-8d82-24f614c5322a",
   "metadata": {},
   "outputs": [],
   "source": []
  }
 ],
 "metadata": {
  "kernelspec": {
   "display_name": "Python 3 (ipykernel)",
   "language": "python",
   "name": "python3"
  },
  "language_info": {
   "codemirror_mode": {
    "name": "ipython",
    "version": 3
   },
   "file_extension": ".py",
   "mimetype": "text/x-python",
   "name": "python",
   "nbconvert_exporter": "python",
   "pygments_lexer": "ipython3",
   "version": "3.9.7"
  }
 },
 "nbformat": 4,
 "nbformat_minor": 5
}
